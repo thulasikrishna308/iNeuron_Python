{
 "cells": [
  {
   "cell_type": "code",
   "execution_count": 1,
   "id": "31c5d9fd",
   "metadata": {},
   "outputs": [],
   "source": [
    "a = \"sudh\""
   ]
  },
  {
   "cell_type": "code",
   "execution_count": 2,
   "id": "be97c383",
   "metadata": {},
   "outputs": [
    {
     "data": {
      "text/plain": [
       "4"
      ]
     },
     "execution_count": 2,
     "metadata": {},
     "output_type": "execute_result"
    }
   ],
   "source": [
    "len(a)"
   ]
  },
  {
   "cell_type": "code",
   "execution_count": 3,
   "id": "62b85d6b",
   "metadata": {},
   "outputs": [],
   "source": [
    "l = [2,3,4,5,\"sudh\", 4.67]"
   ]
  },
  {
   "cell_type": "code",
   "execution_count": 4,
   "id": "bf645f01",
   "metadata": {},
   "outputs": [
    {
     "data": {
      "text/plain": [
       "6"
      ]
     },
     "execution_count": 4,
     "metadata": {},
     "output_type": "execute_result"
    }
   ],
   "source": [
    "len(l)"
   ]
  },
  {
   "cell_type": "code",
   "execution_count": 5,
   "id": "508bd714",
   "metadata": {},
   "outputs": [],
   "source": [
    "def test():\n",
    "    pass\n",
    "    "
   ]
  },
  {
   "cell_type": "code",
   "execution_count": 6,
   "id": "ab0d3016",
   "metadata": {},
   "outputs": [],
   "source": [
    "def test1():\n",
    "    print(\"this is my very first function in python\")"
   ]
  },
  {
   "cell_type": "code",
   "execution_count": 7,
   "id": "4ae84bd4",
   "metadata": {},
   "outputs": [
    {
     "name": "stdout",
     "output_type": "stream",
     "text": [
      "this is my very first function in python\n"
     ]
    }
   ],
   "source": [
    "test1()"
   ]
  },
  {
   "cell_type": "code",
   "execution_count": 8,
   "id": "23707729",
   "metadata": {},
   "outputs": [],
   "source": [
    "a = 1 "
   ]
  },
  {
   "cell_type": "code",
   "execution_count": 9,
   "id": "637de580",
   "metadata": {},
   "outputs": [
    {
     "name": "stdout",
     "output_type": "stream",
     "text": [
      "this is my very first function in python\n"
     ]
    }
   ],
   "source": [
    "b = test1()"
   ]
  },
  {
   "cell_type": "code",
   "execution_count": 10,
   "id": "39601c05",
   "metadata": {},
   "outputs": [
    {
     "data": {
      "text/plain": [
       "NoneType"
      ]
     },
     "execution_count": 10,
     "metadata": {},
     "output_type": "execute_result"
    }
   ],
   "source": [
    "type(b)"
   ]
  },
  {
   "cell_type": "code",
   "execution_count": 11,
   "id": "76088d8b",
   "metadata": {},
   "outputs": [],
   "source": [
    "b"
   ]
  },
  {
   "cell_type": "code",
   "execution_count": 12,
   "id": "443015ef",
   "metadata": {},
   "outputs": [
    {
     "name": "stdout",
     "output_type": "stream",
     "text": [
      "None\n"
     ]
    }
   ],
   "source": [
    "print(b)"
   ]
  },
  {
   "cell_type": "code",
   "execution_count": 13,
   "id": "8d195973",
   "metadata": {},
   "outputs": [],
   "source": [
    "c = \"kumar\""
   ]
  },
  {
   "cell_type": "code",
   "execution_count": 14,
   "id": "4c144171",
   "metadata": {},
   "outputs": [
    {
     "data": {
      "text/plain": [
       "str"
      ]
     },
     "execution_count": 14,
     "metadata": {},
     "output_type": "execute_result"
    }
   ],
   "source": [
    "type(c)"
   ]
  },
  {
   "cell_type": "code",
   "execution_count": 15,
   "id": "9ce3a101",
   "metadata": {},
   "outputs": [
    {
     "name": "stdout",
     "output_type": "stream",
     "text": [
      "this is my very first function in python\n"
     ]
    },
    {
     "data": {
      "text/plain": [
       "NoneType"
      ]
     },
     "execution_count": 15,
     "metadata": {},
     "output_type": "execute_result"
    }
   ],
   "source": [
    "type(test1())"
   ]
  },
  {
   "cell_type": "code",
   "execution_count": 16,
   "id": "66e77dab",
   "metadata": {},
   "outputs": [],
   "source": [
    "def test2():\n",
    "    return 5"
   ]
  },
  {
   "cell_type": "code",
   "execution_count": 17,
   "id": "45936ccb",
   "metadata": {},
   "outputs": [
    {
     "data": {
      "text/plain": [
       "5"
      ]
     },
     "execution_count": 17,
     "metadata": {},
     "output_type": "execute_result"
    }
   ],
   "source": [
    "test2()"
   ]
  },
  {
   "cell_type": "code",
   "execution_count": 18,
   "id": "bcc63cba",
   "metadata": {},
   "outputs": [],
   "source": [
    "d = test2()"
   ]
  },
  {
   "cell_type": "code",
   "execution_count": 19,
   "id": "401fcb5c",
   "metadata": {},
   "outputs": [
    {
     "data": {
      "text/plain": [
       "5"
      ]
     },
     "execution_count": 19,
     "metadata": {},
     "output_type": "execute_result"
    }
   ],
   "source": [
    "d"
   ]
  },
  {
   "cell_type": "code",
   "execution_count": 20,
   "id": "6ab1c554",
   "metadata": {},
   "outputs": [
    {
     "name": "stdout",
     "output_type": "stream",
     "text": [
      "this \n"
     ]
    },
    {
     "data": {
      "text/plain": [
       "NoneType"
      ]
     },
     "execution_count": 20,
     "metadata": {},
     "output_type": "execute_result"
    }
   ],
   "source": [
    "type(print(\"this \"))"
   ]
  },
  {
   "cell_type": "code",
   "execution_count": 21,
   "id": "44f68f6f",
   "metadata": {},
   "outputs": [],
   "source": [
    "def test3():\n",
    "    return 5 "
   ]
  },
  {
   "cell_type": "code",
   "execution_count": 22,
   "id": "e7db8a52",
   "metadata": {},
   "outputs": [],
   "source": [
    "def test4():\n",
    "    return (\"this is my print return \")"
   ]
  },
  {
   "cell_type": "code",
   "execution_count": 23,
   "id": "a0a42885",
   "metadata": {},
   "outputs": [
    {
     "data": {
      "text/plain": [
       "5"
      ]
     },
     "execution_count": 23,
     "metadata": {},
     "output_type": "execute_result"
    }
   ],
   "source": [
    "test3()"
   ]
  },
  {
   "cell_type": "code",
   "execution_count": 24,
   "id": "20a078b0",
   "metadata": {},
   "outputs": [],
   "source": [
    "e = test4()"
   ]
  },
  {
   "cell_type": "code",
   "execution_count": 25,
   "id": "d0ae0497",
   "metadata": {},
   "outputs": [
    {
     "data": {
      "text/plain": [
       "'this is my print return sudh'"
      ]
     },
     "execution_count": 25,
     "metadata": {},
     "output_type": "execute_result"
    }
   ],
   "source": [
    "e + \"sudh\""
   ]
  },
  {
   "cell_type": "code",
   "execution_count": 26,
   "id": "908df14a",
   "metadata": {},
   "outputs": [],
   "source": [
    "def test3():\n",
    "    return \"sudh\" "
   ]
  },
  {
   "cell_type": "code",
   "execution_count": 27,
   "id": "380294e0",
   "metadata": {},
   "outputs": [
    {
     "data": {
      "text/plain": [
       "'sudhkumar'"
      ]
     },
     "execution_count": 27,
     "metadata": {},
     "output_type": "execute_result"
    }
   ],
   "source": [
    "test3() + \"kumar\""
   ]
  },
  {
   "cell_type": "code",
   "execution_count": 28,
   "id": "6a2a73f5",
   "metadata": {},
   "outputs": [
    {
     "data": {
      "text/plain": [
       "'this is my print return kumar'"
      ]
     },
     "execution_count": 28,
     "metadata": {},
     "output_type": "execute_result"
    }
   ],
   "source": [
    "test4() + \"kumar\""
   ]
  },
  {
   "cell_type": "code",
   "execution_count": 29,
   "id": "c545b465",
   "metadata": {},
   "outputs": [],
   "source": [
    "def test5():\n",
    "    print(\"this is my python code \")"
   ]
  },
  {
   "cell_type": "code",
   "execution_count": 30,
   "id": "c62c9ff7",
   "metadata": {},
   "outputs": [],
   "source": [
    "def test6():\n",
    "    return 1,3 , [3,4,5,\"sudh\"],(3,4,5,6)"
   ]
  },
  {
   "cell_type": "code",
   "execution_count": 31,
   "id": "e589b026",
   "metadata": {},
   "outputs": [
    {
     "data": {
      "text/plain": [
       "(1, 3, [3, 4, 5, 'sudh'], (3, 4, 5, 6))"
      ]
     },
     "execution_count": 31,
     "metadata": {},
     "output_type": "execute_result"
    }
   ],
   "source": [
    "test6()"
   ]
  },
  {
   "cell_type": "code",
   "execution_count": 32,
   "id": "263c599c",
   "metadata": {},
   "outputs": [
    {
     "data": {
      "text/plain": [
       "tuple"
      ]
     },
     "execution_count": 32,
     "metadata": {},
     "output_type": "execute_result"
    }
   ],
   "source": [
    "type(test6())"
   ]
  },
  {
   "cell_type": "code",
   "execution_count": 33,
   "id": "5b26bf59",
   "metadata": {},
   "outputs": [
    {
     "data": {
      "text/plain": [
       "3"
      ]
     },
     "execution_count": 33,
     "metadata": {},
     "output_type": "execute_result"
    }
   ],
   "source": [
    "test6()[1]"
   ]
  },
  {
   "cell_type": "code",
   "execution_count": 34,
   "id": "86129f3b",
   "metadata": {},
   "outputs": [
    {
     "data": {
      "text/plain": [
       "[3, 4, 5, 'sudh']"
      ]
     },
     "execution_count": 34,
     "metadata": {},
     "output_type": "execute_result"
    }
   ],
   "source": [
    "test6()[2]"
   ]
  },
  {
   "cell_type": "code",
   "execution_count": 35,
   "id": "a9278a2a",
   "metadata": {},
   "outputs": [],
   "source": [
    "def test7():\n",
    "    return 1,3 , [3,4,5,\"sudh\"],(3,4,5,6)"
   ]
  },
  {
   "cell_type": "code",
   "execution_count": 36,
   "id": "26236d3c",
   "metadata": {},
   "outputs": [],
   "source": [
    "a,b,c,d = test7()"
   ]
  },
  {
   "cell_type": "code",
   "execution_count": 37,
   "id": "5ed25e03",
   "metadata": {},
   "outputs": [
    {
     "data": {
      "text/plain": [
       "1"
      ]
     },
     "execution_count": 37,
     "metadata": {},
     "output_type": "execute_result"
    }
   ],
   "source": [
    "a"
   ]
  },
  {
   "cell_type": "code",
   "execution_count": 38,
   "id": "69d4137b",
   "metadata": {},
   "outputs": [
    {
     "data": {
      "text/plain": [
       "3"
      ]
     },
     "execution_count": 38,
     "metadata": {},
     "output_type": "execute_result"
    }
   ],
   "source": [
    "b"
   ]
  },
  {
   "cell_type": "code",
   "execution_count": 39,
   "id": "25e8571d",
   "metadata": {},
   "outputs": [
    {
     "data": {
      "text/plain": [
       "[3, 4, 5, 'sudh']"
      ]
     },
     "execution_count": 39,
     "metadata": {},
     "output_type": "execute_result"
    }
   ],
   "source": [
    "c"
   ]
  },
  {
   "cell_type": "code",
   "execution_count": 40,
   "id": "89c6ce68",
   "metadata": {},
   "outputs": [
    {
     "data": {
      "text/plain": [
       "(3, 4, 5, 6)"
      ]
     },
     "execution_count": 40,
     "metadata": {},
     "output_type": "execute_result"
    }
   ],
   "source": [
    "d"
   ]
  },
  {
   "cell_type": "code",
   "execution_count": 41,
   "id": "135929c6",
   "metadata": {},
   "outputs": [],
   "source": [
    "a =1\n",
    "b= 3\n",
    "c =\"sudh\""
   ]
  },
  {
   "cell_type": "code",
   "execution_count": 42,
   "id": "3ae60cbc",
   "metadata": {},
   "outputs": [],
   "source": [
    "a,b,c = 1,3,\"sudh\""
   ]
  },
  {
   "cell_type": "code",
   "execution_count": 43,
   "id": "679a4cbc",
   "metadata": {},
   "outputs": [],
   "source": [
    "def test8():\n",
    "    a = 4*5+8\n",
    "    return a "
   ]
  },
  {
   "cell_type": "code",
   "execution_count": 44,
   "id": "07f077fc",
   "metadata": {},
   "outputs": [
    {
     "data": {
      "text/plain": [
       "36"
      ]
     },
     "execution_count": 44,
     "metadata": {},
     "output_type": "execute_result"
    }
   ],
   "source": [
    "test8() + 8"
   ]
  },
  {
   "cell_type": "code",
   "execution_count": 45,
   "id": "6ffefeaa",
   "metadata": {},
   "outputs": [
    {
     "data": {
      "text/plain": [
       "int"
      ]
     },
     "execution_count": 45,
     "metadata": {},
     "output_type": "execute_result"
    }
   ],
   "source": [
    "type(test8())"
   ]
  },
  {
   "cell_type": "code",
   "execution_count": 46,
   "id": "062b1c29",
   "metadata": {},
   "outputs": [],
   "source": [
    "def test9():\n",
    "    l = [2,3,4,5,6,7,8,9,\"sudh\"]\n",
    "    a = 0\n",
    "    for i in l :\n",
    "        if type(i) == int:\n",
    "            a = i+a\n",
    "    return a"
   ]
  },
  {
   "cell_type": "code",
   "execution_count": 47,
   "id": "fb0de7e5",
   "metadata": {},
   "outputs": [
    {
     "data": {
      "text/plain": [
       "44"
      ]
     },
     "execution_count": 47,
     "metadata": {},
     "output_type": "execute_result"
    }
   ],
   "source": [
    "test9()"
   ]
  },
  {
   "cell_type": "code",
   "execution_count": 48,
   "id": "4ac66e2d",
   "metadata": {},
   "outputs": [
    {
     "data": {
      "text/plain": [
       "4"
      ]
     },
     "execution_count": 48,
     "metadata": {},
     "output_type": "execute_result"
    }
   ],
   "source": [
    "len(\"sudh\")"
   ]
  },
  {
   "cell_type": "code",
   "execution_count": 49,
   "id": "e62f0d68",
   "metadata": {},
   "outputs": [
    {
     "data": {
      "text/plain": [
       "3"
      ]
     },
     "execution_count": 49,
     "metadata": {},
     "output_type": "execute_result"
    }
   ],
   "source": [
    "len([4,5,6])"
   ]
  },
  {
   "cell_type": "code",
   "execution_count": null,
   "id": "11f3f10a",
   "metadata": {},
   "outputs": [],
   "source": []
  },
  {
   "cell_type": "code",
   "execution_count": 50,
   "id": "b162d426",
   "metadata": {},
   "outputs": [],
   "source": [
    "l1 = [4,5,6,7,7,8,\"kumar\" , 4.56]"
   ]
  },
  {
   "cell_type": "code",
   "execution_count": 51,
   "id": "b36c4f15",
   "metadata": {},
   "outputs": [],
   "source": [
    "def test10(l):\n",
    "    a = 0\n",
    "    for i in l :\n",
    "        if type(i) == int:\n",
    "            a = i+a\n",
    "    return a"
   ]
  },
  {
   "cell_type": "code",
   "execution_count": 52,
   "id": "6dbee9f9",
   "metadata": {},
   "outputs": [
    {
     "data": {
      "text/plain": [
       "37"
      ]
     },
     "execution_count": 52,
     "metadata": {},
     "output_type": "execute_result"
    }
   ],
   "source": [
    "test10(l1)"
   ]
  },
  {
   "cell_type": "code",
   "execution_count": 53,
   "id": "63fbe408",
   "metadata": {},
   "outputs": [],
   "source": [
    "def test11(a,b):\n",
    "    return a+b"
   ]
  },
  {
   "cell_type": "code",
   "execution_count": 54,
   "id": "e75d109d",
   "metadata": {},
   "outputs": [
    {
     "data": {
      "text/plain": [
       "5"
      ]
     },
     "execution_count": 54,
     "metadata": {},
     "output_type": "execute_result"
    }
   ],
   "source": [
    "test11(2,3)"
   ]
  },
  {
   "cell_type": "code",
   "execution_count": 55,
   "id": "788c17bd",
   "metadata": {},
   "outputs": [
    {
     "data": {
      "text/plain": [
       "'sudhkumar'"
      ]
     },
     "execution_count": 55,
     "metadata": {},
     "output_type": "execute_result"
    }
   ],
   "source": [
    "test11(\"sudh\" ,\"kumar\")"
   ]
  },
  {
   "cell_type": "code",
   "execution_count": 56,
   "id": "fa8038b1",
   "metadata": {},
   "outputs": [
    {
     "data": {
      "text/plain": [
       "12"
      ]
     },
     "execution_count": 56,
     "metadata": {},
     "output_type": "execute_result"
    }
   ],
   "source": [
    "test11(a = 7 , b = 5)"
   ]
  },
  {
   "cell_type": "code",
   "execution_count": 57,
   "id": "cb0f55d0",
   "metadata": {},
   "outputs": [
    {
     "data": {
      "text/plain": [
       "13"
      ]
     },
     "execution_count": 57,
     "metadata": {},
     "output_type": "execute_result"
    }
   ],
   "source": [
    "test11(b = 8 , a = 5)"
   ]
  },
  {
   "cell_type": "code",
   "execution_count": 58,
   "id": "6c69b896",
   "metadata": {},
   "outputs": [],
   "source": [
    "l = [3,4,5,6,7,8,\"sudh\" , 5,6,7,\"kumar\" , \"ineuron\"]"
   ]
  },
  {
   "cell_type": "code",
   "execution_count": 59,
   "id": "31b75103",
   "metadata": {},
   "outputs": [],
   "source": [
    "def test12(l):\n",
    "    \"\"\"this is my function which will help you to seperate a string from list into a new list \"\"\"\n",
    "    l1 = []\n",
    "    for i in l :\n",
    "        if type(i) == str:\n",
    "            l1.append(i)\n",
    "    return l1"
   ]
  },
  {
   "cell_type": "code",
   "execution_count": 60,
   "id": "54f2a42b",
   "metadata": {},
   "outputs": [
    {
     "data": {
      "text/plain": [
       "['sudh', 'kumar', 'ineuron']"
      ]
     },
     "execution_count": 60,
     "metadata": {},
     "output_type": "execute_result"
    }
   ],
   "source": [
    "test12(l)"
   ]
  },
  {
   "cell_type": "code",
   "execution_count": 61,
   "id": "18c36a5c",
   "metadata": {},
   "outputs": [],
   "source": [
    "l2 = [\"fsfda\" , \"fsdf\" ,\"abc \" , 456,56]"
   ]
  },
  {
   "cell_type": "code",
   "execution_count": 62,
   "id": "ce214a35",
   "metadata": {},
   "outputs": [
    {
     "data": {
      "text/plain": [
       "['fsfda', 'fsdf', 'abc ']"
      ]
     },
     "execution_count": 62,
     "metadata": {},
     "output_type": "execute_result"
    }
   ],
   "source": [
    "test12(l2)"
   ]
  },
  {
   "cell_type": "code",
   "execution_count": 63,
   "id": "1ba1e6ef",
   "metadata": {},
   "outputs": [
    {
     "data": {
      "text/plain": [
       "3"
      ]
     },
     "execution_count": 63,
     "metadata": {},
     "output_type": "execute_result"
    }
   ],
   "source": [
    "len(\"sdf\")"
   ]
  },
  {
   "cell_type": "code",
   "execution_count": 64,
   "id": "68d9d2a4",
   "metadata": {},
   "outputs": [
    {
     "name": "stdout",
     "output_type": "stream",
     "text": [
      "\n"
     ]
    }
   ],
   "source": [
    "print()"
   ]
  },
  {
   "cell_type": "code",
   "execution_count": 65,
   "id": "cb500d8e",
   "metadata": {},
   "outputs": [
    {
     "ename": "TypeError",
     "evalue": "test12() missing 1 required positional argument: 'l'",
     "output_type": "error",
     "traceback": [
      "\u001b[1;31m---------------------------------------------------------------------------\u001b[0m",
      "\u001b[1;31mTypeError\u001b[0m                                 Traceback (most recent call last)",
      "Input \u001b[1;32mIn [65]\u001b[0m, in \u001b[0;36m<cell line: 1>\u001b[1;34m()\u001b[0m\n\u001b[1;32m----> 1\u001b[0m \u001b[43mtest12\u001b[49m\u001b[43m(\u001b[49m\u001b[43m)\u001b[49m\n",
      "\u001b[1;31mTypeError\u001b[0m: test12() missing 1 required positional argument: 'l'"
     ]
    }
   ],
   "source": [
    "test12()"
   ]
  },
  {
   "cell_type": "code",
   "execution_count": null,
   "id": "04827ede",
   "metadata": {},
   "outputs": [],
   "source": [
    "len(\"sudh\")"
   ]
  },
  {
   "cell_type": "code",
   "execution_count": null,
   "id": "4b9cd427",
   "metadata": {},
   "outputs": [],
   "source": [
    "l2"
   ]
  },
  {
   "cell_type": "code",
   "execution_count": null,
   "id": "594be36a",
   "metadata": {},
   "outputs": [],
   "source": [
    "1. write a function which will try to find out len of a string without using an inbuilt len function \n",
    "2. write a function which  will be able to print an index of list element without using an index function\n",
    "3. write a function which will be able to print an ip address of your system\n",
    "4. write a function which will shutdown your system\n",
    "5. write a function which will take input as a list with any kind of numeric value and give an out as a multiplication of \n",
    "all the numeric data l = [3.5, 6.56, 4,5,\"sudh\" , \"ineuron\" , 'fsda bootcamp 2.0']\n",
    "6. write a function which will be able to read all the mails \n",
    "7 . write a function which will be able to send a mail to anyone \n",
    "8. write a function which will be able to read a doc/word file from your system \n",
    "\n",
    "you are suppose to complete this by oct 30th before your \n",
    "live class and you have to send a solution at mail id - query@ineuron.ai\n",
    "submit your git link to mail "
   ]
  },
  {
   "cell_type": "code",
   "execution_count": 69,
   "id": "69ca71c9",
   "metadata": {},
   "outputs": [
    {
     "name": "stdout",
     "output_type": "stream",
     "text": [
      "14\n"
     ]
    }
   ],
   "source": [
    "#1. write a function which will try to find out len of a string without using an inbuilt len function\n",
    "s=\"thulasikrishna\"\n",
    "l=0\n",
    "for i in s:\n",
    "    l+=1\n",
    "print(l)"
   ]
  },
  {
   "cell_type": "code",
   "execution_count": 71,
   "id": "b16bf663",
   "metadata": {},
   "outputs": [
    {
     "name": "stdout",
     "output_type": "stream",
     "text": [
      "2\n"
     ]
    }
   ],
   "source": [
    "#2. write a function which  will be able to print an index of list element without using an index function\n",
    "def print_index(l,e):\n",
    "    for i in range(len(l)):\n",
    "        if l[i]==e:\n",
    "            print(i)\n",
    "            break\n",
    "print_index([1,4,5,2,7],5)"
   ]
  },
  {
   "cell_type": "code",
   "execution_count": 76,
   "id": "0f4065de",
   "metadata": {},
   "outputs": [
    {
     "data": {
      "text/plain": [
       "<function __main__.print_ip()>"
      ]
     },
     "execution_count": 76,
     "metadata": {},
     "output_type": "execute_result"
    }
   ],
   "source": [
    "#3. write a function which will be able to print an ip address of your system\n",
    "def print_ip():\n",
    "    hostname = socket.gethostname()\n",
    "    IP = socket.gethostbyname(hostname)\n",
    "    print(IP)\n",
    "import socket\n",
    "print_ip"
   ]
  },
  {
   "cell_type": "code",
   "execution_count": 78,
   "id": "6a4086a8",
   "metadata": {},
   "outputs": [
    {
     "data": {
      "text/plain": [
       "<function __main__.shutdown()>"
      ]
     },
     "execution_count": 78,
     "metadata": {},
     "output_type": "execute_result"
    }
   ],
   "source": [
    "#4. write a function which will shutdown your system\n",
    "def shutdown():\n",
    "    os.system(\"shutdown /s /t 1\")\n",
    "import os\n",
    "shutdown"
   ]
  },
  {
   "cell_type": "code",
   "execution_count": 82,
   "id": "5f52818e",
   "metadata": {},
   "outputs": [
    {
     "name": "stdout",
     "output_type": "stream",
     "text": [
      "459.19999999999993\n"
     ]
    }
   ],
   "source": [
    "#5. write a function which will take input as a list with any kind of numeric value and give an out as a multiplication of \n",
    "#all the numeric data l = [3.5, 6.56, 4,5,\"sudh\" , \"ineuron\" , 'fsda bootcamp 2.0']\n",
    "def find_mul(l):\n",
    "    m=1\n",
    "    for i in l:\n",
    "        if isinstance(i, (int,float)):\n",
    "            m*=i\n",
    "    return m\n",
    "l = [3.5, 6.56, 4,5,\"sudh\" , \"ineuron\" , 'fsda bootcamp 2.0']\n",
    "print(find_mul(l))"
   ]
  },
  {
   "cell_type": "code",
   "execution_count": null,
   "id": "f94b0107",
   "metadata": {},
   "outputs": [],
   "source": []
  }
 ],
 "metadata": {
  "kernelspec": {
   "display_name": "Python 3 (ipykernel)",
   "language": "python",
   "name": "python3"
  },
  "language_info": {
   "codemirror_mode": {
    "name": "ipython",
    "version": 3
   },
   "file_extension": ".py",
   "mimetype": "text/x-python",
   "name": "python",
   "nbconvert_exporter": "python",
   "pygments_lexer": "ipython3",
   "version": "3.9.12"
  }
 },
 "nbformat": 4,
 "nbformat_minor": 5
}
